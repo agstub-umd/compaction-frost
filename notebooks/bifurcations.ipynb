{
 "cells": [
  {
   "cell_type": "markdown",
   "id": "ba1c6864-8a95-4c87-b34e-cd18af1c4c20",
   "metadata": {},
   "source": [
    "# Frost heave compaction solver"
   ]
  },
  {
   "cell_type": "markdown",
   "id": "80eb6396",
   "metadata": {},
   "source": [
    "This notebook solves a frost heave compaction problem in one spatial dimension (vertical). \n",
    "\n",
    "The code requires [FEniCSx](https://fenicsproject.org). The notebook can be run \n",
    "through a [Docker](https://www.docker.com) container with the command:\n",
    "\n",
    "`docker run --init -ti -p 8888:8888 -v $(pwd):/home/fenics/shared -w /home/fenics/shared dolfinx/lab:stable`"
   ]
  },
  {
   "cell_type": "markdown",
   "id": "ded7fb5b-5fab-4d0f-b0d2-6fae180d42fd",
   "metadata": {},
   "source": [
    "Various imports:"
   ]
  },
  {
   "cell_type": "code",
   "execution_count": 1,
   "id": "51c1d7d8-a875-4281-bcf8-0a15d49f345c",
   "metadata": {},
   "outputs": [],
   "source": [
    "%load_ext autoreload\n",
    "%autoreload 2\n",
    "# add path to code\n",
    "import sys\n",
    "sys.path.insert(0, '../source')"
   ]
  },
  {
   "cell_type": "code",
   "execution_count": 2,
   "id": "734fd229-a6ac-43f0-a625-6237b4f91c4e",
   "metadata": {
    "tags": []
   },
   "outputs": [],
   "source": [
    "import matplotlib.pyplot as plt\n",
    "import numpy as np\n",
    "import ipyparallel as ipp\n",
    "import os "
   ]
  },
  {
   "cell_type": "markdown",
   "id": "9d7e791f",
   "metadata": {},
   "source": [
    "Define domain:"
   ]
  },
  {
   "cell_type": "code",
   "execution_count": 3,
   "id": "9083692a-e2f4-46d3-b07f-e37a8a479c5f",
   "metadata": {},
   "outputs": [
    {
     "name": "stdout",
     "output_type": "stream",
     "text": [
      "Starting 8 engines with <class 'ipyparallel.cluster.launcher.LocalEngineSetLauncher'>\n"
     ]
    },
    {
     "data": {
      "application/vnd.jupyter.widget-view+json": {
       "model_id": "ecb47bef0dc74f739e0371385b7b63e6",
       "version_major": 2,
       "version_minor": 0
      },
      "text/plain": [
       "  0%|          | 0/8 [00:00<?, ?engine/s]"
      ]
     },
     "metadata": {},
     "output_type": "display_data"
    },
    {
     "data": {
      "text/plain": [
       "<AsyncResult(execute): finished>"
      ]
     },
     "execution_count": 3,
     "metadata": {},
     "output_type": "execute_result"
    }
   ],
   "source": [
    "mycluster = ipp.Cluster(n = 8)\n",
    "rc = mycluster.start_and_connect_sync()\n",
    "view = rc.load_balanced_view()\n",
    "dview = rc[:]\n",
    "dview.block = True\n",
    "dview.execute('import numpy as np')\n",
    "dview.execute('import sys')\n",
    "dview.execute('sys.path.insert(0, \"../source\")')\n",
    "dview.execute('from solvers import time_stepping, initialize')\n",
    "dview.execute('from params import nz')\n",
    "dview.execute('from dolfinx.mesh import create_interval')\n",
    "dview.execute('from mpi4py import MPI')"
   ]
  },
  {
   "cell_type": "code",
   "execution_count": 4,
   "id": "bd0a2474-3d9e-4995-82a4-c5c3d1e10763",
   "metadata": {},
   "outputs": [],
   "source": [
    "v_i = np.arange(0.03,0.045,0.001)\n",
    "timesteps = np.linspace(0,4e3,4000)\n",
    "mydict = dict(v_i = v_i,timesteps=timesteps)\n",
    "dview.push(mydict);"
   ]
  },
  {
   "cell_type": "code",
   "execution_count": 5,
   "id": "09193b88-e0be-4bcc-b6ad-e51ccdc513d6",
   "metadata": {},
   "outputs": [],
   "source": [
    "def wrapper(i):\n",
    "    N_f = 2  # effective stress at base of fringe \n",
    "    z_l = 5\n",
    "    z_b = 0\n",
    "    domain = create_interval(MPI.COMM_WORLD,nz,[z_b,z_l])\n",
    "    initial = initialize(domain,N_f)\n",
    "    N,z,new_lens,converged = time_stepping(domain,initial,N_f,v_i[i],timesteps,eps=1e-10)\n",
    "    h = np.max(z,axis=1)\n",
    "    return([h,new_lens])"
   ]
  },
  {
   "cell_type": "code",
   "execution_count": 6,
   "id": "efd0f609-28b7-497c-813d-4eb70a38d04b",
   "metadata": {},
   "outputs": [
    {
     "data": {
      "application/vnd.jupyter.widget-view+json": {
       "model_id": "99c6cc176c1f4195826eddc77e415a9d",
       "version_major": 2,
       "version_minor": 0
      },
      "text/plain": [
       "unknown:   0%|          | 0/101 [00:00<?, ?tasks/s]"
      ]
     },
     "metadata": {},
     "output_type": "display_data"
    }
   ],
   "source": [
    "parameters = list(range(v_i.size))\n",
    "async_results = []\n",
    "for i in parameters:\n",
    "    async_result = view.apply_async(wrapper, i)\n",
    "    async_results.append(async_result)\n",
    "\n",
    "rc.wait_interactive(async_results)\n",
    "\n",
    "results = [ar.get() for ar in async_results]"
   ]
  },
  {
   "cell_type": "code",
   "execution_count": 16,
   "id": "c18708c1-7936-49aa-b197-dd9287ed96d0",
   "metadata": {},
   "outputs": [
    {
     "data": {
      "image/png": "[encoded data removed]",
      "text/plain": [
       "<Figure size 800x400 with 1 Axes>"
      ]
     },
     "metadata": {},
     "output_type": "display_data"
    }
   ],
   "source": [
    "# plot position of active ice lens over time\n",
    "\n",
    "plt.figure(figsize=(8,4))\n",
    "for i in range(v_i.size):\n",
    "    h = results[i][0][int(0.1*timesteps.size):None]\n",
    "    new_lens = results[i][1][int(0.1*timesteps.size):None]\n",
    "    old_lens = np.roll(new_lens,-1)\n",
    "    # plt.plot(timesteps[old_lens==1]/timesteps.max(),h[old_lens==1],'o',markersize=5,color='crimson')\n",
    "    # plt.plot(timesteps/timesteps.max(),h,'-',color='k')\n",
    "    # plt.plot(v_i[i]*np.ones(h[new_lens==1].size),h[new_lens==1],'o',markersize=3,color='crimson')\n",
    "    plt.plot(v_i[i]*np.ones(h[old_lens==1].size),h[old_lens==1],'o',markersize=3,color='k')\n",
    "plt.xticks(fontsize=16)\n",
    "plt.yticks(fontsize=16)\n",
    "plt.ylabel(r'$z_\\ell$',fontsize=16)\n",
    "plt.xlabel(r'$v_\\mathrm{i}$',fontsize=20)   \n",
    "plt.show()\n",
    "plt.close()"
   ]
  }
 ],
 "metadata": {
  "kernelspec": {
   "display_name": "Python 3 (ipykernel)",
   "language": "python",
   "name": "python3"
  },
  "language_info": {
   "codemirror_mode": {
    "name": "ipython",
    "version": 3
   },
   "file_extension": ".py",
   "mimetype": "text/x-python",
   "name": "python",
   "nbconvert_exporter": "python",
   "pygments_lexer": "ipython3",
   "version": "3.10.6"
  }
 },
 "nbformat": 4,
 "nbformat_minor": 5
}
