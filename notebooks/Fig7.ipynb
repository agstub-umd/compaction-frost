{
 "cells": [
  {
   "cell_type": "markdown",
   "id": "ba1c6864-8a95-4c87-b34e-cd18af1c4c20",
   "metadata": {},
   "source": [
    "# Figure 7"
   ]
  },
  {
   "cell_type": "markdown",
   "id": "80eb6396",
   "metadata": {},
   "source": [
    "This notebook solves a frost heave compaction problem in one spatial dimension (vertical). \n",
    "\n",
    "The notebook runs many simulations in parallel with ipyparallel to produce recurrence relations for the frost heave problem.\n",
    "\n",
    "The code requires [FEniCSx](https://fenicsproject.org). The notebook can be run \n",
    "through a [Docker](https://www.docker.com) container with the command:\n",
    "\n",
    "`docker run --init -ti -p 8888:8888 -v $(pwd):/home/fenics/shared -w /home/fenics/shared dolfinx/lab:stable`"
   ]
  },
  {
   "cell_type": "markdown",
   "id": "ded7fb5b-5fab-4d0f-b0d2-6fae180d42fd",
   "metadata": {},
   "source": [
    "Various imports:"
   ]
  },
  {
   "cell_type": "code",
   "execution_count": 1,
   "id": "51c1d7d8-a875-4281-bcf8-0a15d49f345c",
   "metadata": {},
   "outputs": [],
   "source": [
    "%load_ext autoreload\n",
    "%autoreload 2\n",
    "# add path to code\n",
    "import sys\n",
    "sys.path.insert(0, '../source')"
   ]
  },
  {
   "cell_type": "code",
   "execution_count": 2,
   "id": "3c415d57-2a82-48a0-acdb-3d9579f4c4b9",
   "metadata": {},
   "outputs": [],
   "source": [
    "# !pip install --user ipyparallel"
   ]
  },
  {
   "cell_type": "code",
   "execution_count": 4,
   "id": "734fd229-a6ac-43f0-a625-6237b4f91c4e",
   "metadata": {
    "tags": []
   },
   "outputs": [],
   "source": [
    "import matplotlib.pyplot as plt\n",
    "import numpy as np\n",
    "import ipyparallel as ipp\n",
    "import os \n",
    "from scipy.interpolate import interp1d\n",
    "from scipy.optimize import root_scalar"
   ]
  },
  {
   "cell_type": "markdown",
   "id": "9d7e791f",
   "metadata": {},
   "source": [
    "Start ipyparallel cluster for running a bunch of examples in parallel\n",
    "\n",
    "Change `n` in the first line to the desired number of engines"
   ]
  },
  {
   "cell_type": "code",
   "execution_count": 5,
   "id": "9083692a-e2f4-46d3-b07f-e37a8a479c5f",
   "metadata": {},
   "outputs": [
    {
     "name": "stdout",
     "output_type": "stream",
     "text": [
      "Starting 20 engines with <class 'ipyparallel.cluster.launcher.LocalEngineSetLauncher'>\n"
     ]
    },
    {
     "data": {
      "application/vnd.jupyter.widget-view+json": {
       "model_id": "f7c13aa86729465d8468eed4d3cf3769",
       "version_major": 2,
       "version_minor": 0
      },
      "text/plain": [
       "  0%|          | 0/20 [00:00<?, ?engine/s]"
      ]
     },
     "metadata": {},
     "output_type": "display_data"
    },
    {
     "data": {
      "text/plain": [
       "<AsyncResult(execute): finished>"
      ]
     },
     "execution_count": 5,
     "metadata": {},
     "output_type": "execute_result"
    }
   ],
   "source": [
    "mycluster = ipp.Cluster(n = 20,timeout=180)\n",
    "rc = mycluster.start_and_connect_sync()\n",
    "view = rc.load_balanced_view()\n",
    "dview = rc[:]\n",
    "dview.block = True\n",
    "dview.execute('import numpy as np')\n",
    "dview.execute('import sys')\n",
    "dview.execute('sys.path.insert(0, \"../source\")')\n",
    "dview.execute('from wrapper import wrapper_v')"
   ]
  },
  {
   "cell_type": "markdown",
   "id": "68caee93-c945-42ac-99dc-3b077b8c3e0f",
   "metadata": {},
   "source": [
    "**Set timesteps for the examples in the wrapper_v function in wrapper.py**"
   ]
  },
  {
   "cell_type": "markdown",
   "id": "4a423ddd-ea7e-4cf8-99d2-6ef6d547ddce",
   "metadata": {},
   "source": [
    "Compute lens initiation condition for range of initial conditions:"
   ]
  },
  {
   "cell_type": "code",
   "execution_count": 6,
   "id": "cd44c122-1851-4a58-a370-010518e0d056",
   "metadata": {},
   "outputs": [],
   "source": [
    "from wrapper import wrapper_v"
   ]
  },
  {
   "cell_type": "code",
   "execution_count": 18,
   "id": "bd0614f2-a07b-47c4-afc7-f64f1ea5d8f3",
   "metadata": {},
   "outputs": [
    {
     "data": {
      "application/vnd.jupyter.widget-view+json": {
       "model_id": "d77a68e307194da28e680039a7629bca",
       "version_major": 2,
       "version_minor": 0
      },
      "text/plain": [
       "unknown:   0%|          | 0/500 [00:00<?, ?tasks/s]"
      ]
     },
     "metadata": {},
     "output_type": "display_data"
    }
   ],
   "source": [
    "z_0 = np.linspace(3.9,12.1,500)     # initial lens position\n",
    "v_i = 0.037                         # pulling speed\n",
    "mydict = dict(v_i = v_i,z_0=z_0)\n",
    "dview.push(mydict);\n",
    "\n",
    "wrapper_ = lambda i: wrapper_v(i,v_i,z_0)\n",
    "parameters = list(range(z_0.size))\n",
    "async_results = []\n",
    "for i in parameters:\n",
    "    async_result = view.apply_async(wrapper_, i)\n",
    "    async_results.append(async_result)\n",
    "\n",
    "rc.wait_interactive(async_results)\n",
    "\n",
    "results = [ar.get() for ar in async_results]\n",
    "\n",
    "fname = 'results-v-37.npy'\n",
    "res = {'results':results,'z_0':z_0}\n",
    "np.save(fname,res)"
   ]
  },
  {
   "cell_type": "markdown",
   "id": "46b30203-5784-4ea1-8f5c-d31705f4a3f9",
   "metadata": {},
   "source": [
    "Repeat for three other examples: "
   ]
  },
  {
   "cell_type": "code",
   "execution_count": 28,
   "id": "0ad1fa36-1c94-4148-b1aa-bb7f4b217d45",
   "metadata": {},
   "outputs": [
    {
     "data": {
      "application/vnd.jupyter.widget-view+json": {
       "model_id": "2bae2d60d67a4d508feac75fcce940d6",
       "version_major": 2,
       "version_minor": 0
      },
      "text/plain": [
       "unknown:   0%|          | 0/500 [00:00<?, ?tasks/s]"
      ]
     },
     "metadata": {},
     "output_type": "display_data"
    }
   ],
   "source": [
    "z_0 = np.linspace(3.9,12.1,500)  \n",
    "v_i = 0.0375\n",
    "mydict = dict(v_i = v_i,z_0=z_0)\n",
    "dview.push(mydict);\n",
    "wrapper_ = lambda i: wrapper_v(i,v_i,z_0)\n",
    "parameters = list(range(z_0.size))\n",
    "async_results = []\n",
    "for i in parameters: \n",
    "    async_result = view.apply_async(wrapper_, i)\n",
    "    async_results.append(async_result)\n",
    "\n",
    "rc.wait_interactive(async_results)\n",
    "\n",
    "results = [ar.get() for ar in async_results]\n",
    "\n",
    "fname = 'results-v-37p5.npy'\n",
    "res = {'results':results,'z_0':z_0}\n",
    "np.save(fname,res)"
   ]
  },
  {
   "cell_type": "code",
   "execution_count": 29,
   "id": "5ab44593-1f09-4aeb-905a-5689963167c4",
   "metadata": {},
   "outputs": [
    {
     "data": {
      "application/vnd.jupyter.widget-view+json": {
       "model_id": "0555256687014bc7ad9831f9c62ef7bf",
       "version_major": 2,
       "version_minor": 0
      },
      "text/plain": [
       "unknown:   0%|          | 0/500 [00:00<?, ?tasks/s]"
      ]
     },
     "metadata": {},
     "output_type": "display_data"
    }
   ],
   "source": [
    "z_0 = np.linspace(3.9,12.1,500)  \n",
    "v_i = 0.038\n",
    "mydict = dict(v_i = v_i,z_0=z_0)\n",
    "dview.push(mydict);\n",
    "wrapper_ = lambda i: wrapper_v(i,v_i,z_0)\n",
    "parameters = list(range(z_0.size))\n",
    "async_results = []\n",
    "for i in parameters: \n",
    "    async_result = view.apply_async(wrapper_, i)\n",
    "    async_results.append(async_result)\n",
    "\n",
    "rc.wait_interactive(async_results)\n",
    "\n",
    "results = [ar.get() for ar in async_results]\n",
    "\n",
    "fname = 'results-v-38.npy'\n",
    "res = {'results':results,'z_0':z_0}\n",
    "np.save(fname,res)"
   ]
  },
  {
   "cell_type": "code",
   "execution_count": 7,
   "id": "25cdce5c-ea89-4434-98a6-304d7c31b547",
   "metadata": {},
   "outputs": [
    {
     "data": {
      "application/vnd.jupyter.widget-view+json": {
       "model_id": "dcafb91d7c6342eea315ab07e8db33a3",
       "version_major": 2,
       "version_minor": 0
      },
      "text/plain": [
       "unknown:   0%|          | 0/1000 [00:00<?, ?tasks/s]"
      ]
     },
     "metadata": {},
     "output_type": "display_data"
    }
   ],
   "source": [
    "z_0 = np.linspace(3.9,12.1,500)  \n",
    "z_f = np.linspace(9.94-0.05,9.94+0.075,500)\n",
    "z_0 = np.append(z_0,z_f)\n",
    "z_0 = np.sort(z_0)\n",
    "v_i = 0.0385\n",
    "mydict = dict(v_i = v_i,z_0=z_0)\n",
    "dview.push(mydict);\n",
    "wrapper_ = lambda i: wrapper_v(i,v_i,z_0)\n",
    "parameters = list(range(z_0.size))\n",
    "async_results = []\n",
    "for i in parameters: \n",
    "    async_result = view.apply_async(wrapper_, i)\n",
    "    async_results.append(async_result)\n",
    "\n",
    "rc.wait_interactive(async_results)\n",
    "\n",
    "results = [ar.get() for ar in async_results]\n",
    "\n",
    "fname = 'results-v-38p5.npy'\n",
    "res = {'results':results,'z_0':z_0}\n",
    "np.save(fname,res)"
   ]
  },
  {
   "cell_type": "markdown",
   "id": "fded06da-dd54-45b3-bef0-ef0a95249f8e",
   "metadata": {},
   "source": [
    "## Interpolate recurrence relations:"
   ]
  },
  {
   "cell_type": "code",
   "execution_count": 32,
   "id": "41efecb7-f810-4d95-a588-fda81d9bc548",
   "metadata": {},
   "outputs": [],
   "source": [
    "res = np.load('results-v-37.npy',allow_pickle=True).item()\n",
    "results = res['results']\n",
    "z0_1 = res['z_0']\n",
    "zn_1 = np.array([])\n",
    "for i in range(len(results)):\n",
    "    results[i][0]\n",
    "    new_lens = results[i][1]\n",
    "    l = np.where(new_lens==1)\n",
    "    l = np.min(l)+1\n",
    "    new_lens = results[i][1][0:l]\n",
    "    z_l = results[i][0][0:l]\n",
    "    zn_1 = np.append(zn_1,z_l[new_lens==1])"
   ]
  },
  {
   "cell_type": "code",
   "execution_count": 33,
   "id": "5fc0ddcd-852c-41eb-a543-5e10f22c3a36",
   "metadata": {},
   "outputs": [],
   "source": [
    "res = np.load('results-v-37p5.npy',allow_pickle=True).item()\n",
    "results = res['results']\n",
    "z0_2 = res['z_0']\n",
    "zn_2 = np.array([])\n",
    "for i in range(len(results)):\n",
    "    results[i][0]\n",
    "    new_lens = results[i][1]\n",
    "    l = np.where(new_lens==1)\n",
    "    l = np.min(l)+1\n",
    "    new_lens = results[i][1][0:l]\n",
    "    z_l = results[i][0][0:l]\n",
    "    zn_2 = np.append(zn_2,z_l[new_lens==1])"
   ]
  },
  {
   "cell_type": "code",
   "execution_count": 34,
   "id": "312fb8ed-20e4-4c6f-8e3a-29164305f31f",
   "metadata": {},
   "outputs": [],
   "source": [
    "res = np.load('results-v-38.npy',allow_pickle=True).item()\n",
    "results = res['results']\n",
    "z0_3 = res['z_0']\n",
    "zn_3 = np.array([])\n",
    "for i in range(len(results)):\n",
    "    results[i][0]\n",
    "    new_lens = results[i][1]\n",
    "    l = np.where(new_lens==1)\n",
    "    l = np.min(l)+1\n",
    "    new_lens = results[i][1][0:l]\n",
    "    z_l = results[i][0][0:l]\n",
    "    zn_3 = np.append(zn_3,z_l[new_lens==1])"
   ]
  },
  {
   "cell_type": "code",
   "execution_count": 35,
   "id": "eac68c0d-6bc0-49f1-9e51-49bde76fc987",
   "metadata": {},
   "outputs": [],
   "source": [
    "res = np.load('results-v-38p5.npy',allow_pickle=True).item()\n",
    "results = res['results']\n",
    "z0_4 = res['z_0']\n",
    "\n",
    "zn_4 = np.array([])\n",
    "for i in range(len(results)):\n",
    "    results[i][0]\n",
    "    new_lens = results[i][1]\n",
    "    l = np.where(new_lens==1)\n",
    "    l = np.min(l)+1\n",
    "    new_lens = results[i][1][0:l]\n",
    "    z_l = results[i][0][0:l]\n",
    "    zn_4 = np.append(zn_4,z_l[new_lens==1])"
   ]
  },
  {
   "cell_type": "code",
   "execution_count": 36,
   "id": "ca1b9ed2-0348-47da-8064-04168d51ba77",
   "metadata": {},
   "outputs": [],
   "source": [
    "f_1 = interp1d(z0_1,zn_1,fill_value='extrapolate')\n",
    "f_2 = interp1d(z0_2,zn_2,fill_value='extrapolate')\n",
    "f_3 = interp1d(z0_3,zn_3,fill_value='extrapolate')\n",
    "f_4 = interp1d(z0_4,zn_4,fill_value='extrapolate')"
   ]
  },
  {
   "cell_type": "markdown",
   "id": "1c0d1d76-bb5e-449b-b260-a006487cc775",
   "metadata": {},
   "source": [
    "Find fixed points:"
   ]
  },
  {
   "cell_type": "code",
   "execution_count": 37,
   "id": "63da3bc1-febc-484c-a732-f8dde0405fb4",
   "metadata": {},
   "outputs": [],
   "source": [
    "ze_1 = root_scalar(lambda z: f_1(z)-z,x0=8,x1=10,method='secant').root\n",
    "ze_2 = root_scalar(lambda z: f_2(z)-z,x0=8,x1=10,method='secant').root\n",
    "ze_3 = root_scalar(lambda z: f_3(z)-z,x0=8,x1=10,method='secant').root\n",
    "ze_4 = root_scalar(lambda z: f_4(z)-z,x0=8,x1=10,method='secant').root"
   ]
  },
  {
   "cell_type": "code",
   "execution_count": 38,
   "id": "2c9b2043-0fc0-4fb3-a05f-9c64c60e9ff3",
   "metadata": {},
   "outputs": [
    {
     "data": {
      "image/png": "[encoded data removed]",
      "text/plain": [
       "<Figure size 800x600 with 4 Axes>"
      ]
     },
     "metadata": {},
     "output_type": "display_data"
    }
   ],
   "source": [
    "plt.figure(figsize=(8,6))\n",
    "plt.subplot(221)\n",
    "plt.title(r'(a)$\\qquad v_\\mathrm{i} = 0.037$',fontsize=20,loc='left')\n",
    "plt.plot(z0_1,zn_1,'o',color='k',markersize=2)\n",
    "plt.plot(z0_1,z0_1,':',color='k',alpha=0.25)\n",
    "plt.plot(np.linspace(ze_1-1,ze_1+1),np.flipud(np.linspace(ze_1-1,ze_1+1)),'--',color='crimson',linewidth=2)\n",
    "plt.plot([ze_1],[ze_1],'s',color='crimson',markersize=7,markeredgecolor='k')\n",
    "plt.ylabel(r'$z_\\mathrm{n}^{j+1}$',fontsize=20)  \n",
    "plt.gca().xaxis.set_ticklabels([])\n",
    "plt.yticks(fontsize=16)\n",
    "plt.xlim(4,12)\n",
    "plt.ylim(5,12.5)\n",
    "\n",
    "plt.subplot(222)\n",
    "plt.title(r'(b)$\\qquad v_\\mathrm{i} = 0.0375$',fontsize=20,loc='left')\n",
    "\n",
    "# # cobweb plot\n",
    "#--------------------------\n",
    "N = 400\n",
    "x0 = 8\n",
    "x, y = x0, f_2(x0)\n",
    "for j in range(N):\n",
    "    fy = f_2(y)  \n",
    "    if j>200:\n",
    "        plt.plot([x, y], [y,  y], 'royalblue', linewidth=1,alpha=0.1)\n",
    "        plt.plot([y, y], [y, fy], 'royalblue', linewidth=1,alpha=0.1)\n",
    "    x, y = y, fy\n",
    "#--------------------------\n",
    "\n",
    "plt.plot(z0_2,zn_2,'o',color='k',markersize=2)\n",
    "plt.plot(z0_2,z0_2,':',color='k',alpha=0.25)\n",
    "plt.plot(np.linspace(ze_2-1,ze_2+1),np.flipud(np.linspace(ze_2-1,ze_2+1)),'--',color='crimson',linewidth=2)\n",
    "plt.plot([ze_2],[ze_2],'s',color='crimson',markersize=7,markeredgecolor='k')\n",
    "plt.gca().yaxis.set_label_position(\"right\")\n",
    "plt.gca().yaxis.tick_right()\n",
    "plt.ylabel(r'$z_\\mathrm{n}^{j+1}$',fontsize=20)  \n",
    "plt.gca().xaxis.set_ticklabels([])\n",
    "plt.yticks(fontsize=16)\n",
    "plt.xlim(4,12)\n",
    "plt.ylim(5,12.5)\n",
    "\n",
    "plt.subplot(223)\n",
    "\n",
    "#  cobweb\n",
    "#--------------------------\n",
    "N = 400\n",
    "x0 = 8\n",
    "x, y = x0, f_3(x0)\n",
    "for j in range(N):\n",
    "    fy = f_3(y)  \n",
    "    if j>200:\n",
    "        plt.plot([x, y], [y,  y], 'b', linewidth=1,alpha=0.1)\n",
    "        plt.plot([y, y], [y, fy], 'b', linewidth=1,alpha=0.1)\n",
    "    x, y = y, fy\n",
    "#--------------------------\n",
    "\n",
    "plt.title(r'(c)$\\qquad v_\\mathrm{i} = 0.038$',fontsize=20,loc='left')\n",
    "plt.plot(z0_3,zn_3,'o',color='k',markersize=2)\n",
    "plt.plot(z0_3,z0_3,':',color='k',alpha=0.25)\n",
    "plt.plot(np.linspace(ze_3-1,ze_3+1),np.flipud(np.linspace(ze_3-1,ze_3+1)),'--',color='crimson',linewidth=2)\n",
    "plt.plot([ze_3],[ze_3],'s',color='crimson',markersize=7,markeredgecolor='k')\n",
    "\n",
    "plt.ylabel(r'$z_\\mathrm{n}^{j+1}$',fontsize=20)  \n",
    "plt.xlabel(r'$z_\\mathrm{n}^j$',fontsize=20)  \n",
    "plt.xticks(fontsize=16)\n",
    "plt.yticks(fontsize=16)\n",
    "plt.xlim(4,12)\n",
    "plt.ylim(5,12.5)\n",
    "\n",
    "plt.subplot(224)\n",
    "\n",
    "# cobweb plot\n",
    "# --------------------------\n",
    "N = 400\n",
    "x0 = 8\n",
    "x, y = x0, f_4(x0)\n",
    "for j in range(N):\n",
    "    fy = f_4(y)    \n",
    "    if j>200:\n",
    "        plt.plot([x, y], [y,  y], 'royalblue', linewidth=1,alpha=0.1)\n",
    "        plt.plot([y, y], [y, fy], 'royalblue', linewidth=1,alpha=0.1)\n",
    "    x, y = y, fy\n",
    "# #--------------------------\n",
    "\n",
    "plt.title(r'(d)$\\qquad v_\\mathrm{i} = 0.0385$',fontsize=20,loc='left')\n",
    "plt.plot(z0_4,zn_4,'o',color='k',markersize=2)\n",
    "plt.plot(z0_4,z0_4,':',color='k',alpha=0.25)\n",
    "plt.plot(np.linspace(ze_4-1,ze_4+1),np.flipud(np.linspace(ze_4-1,ze_4+1)),'--',color='crimson',linewidth=2)\n",
    "plt.plot([ze_4],[ze_4],'s--',color='crimson',markersize=7,markeredgecolor='k',label='fixed point')\n",
    "\n",
    "plt.gca().yaxis.set_label_position(\"right\")\n",
    "plt.gca().yaxis.tick_right()\n",
    "plt.ylabel(r'$z_\\mathrm{n}^{j+1}$',fontsize=20)  \n",
    "plt.xlabel(r'$z_\\mathrm{n}^j$',fontsize=20)  \n",
    "plt.xticks(fontsize=16)\n",
    "plt.yticks(fontsize=16)\n",
    "plt.legend(fontsize=14,ncol=2,loc=(-0.4,-0.35))\n",
    "plt.xlim(4,12)\n",
    "plt.ylim(5,12.5)\n",
    "plt.savefig('Fig7',bbox_inches='tight')\n",
    "plt.show()\n",
    "plt.close()"
   ]
  }
 ],
 "metadata": {
  "kernelspec": {
   "display_name": "Python 3 (ipykernel)",
   "language": "python",
   "name": "python3"
  },
  "language_info": {
   "codemirror_mode": {
    "name": "ipython",
    "version": 3
   },
   "file_extension": ".py",
   "mimetype": "text/x-python",
   "name": "python",
   "nbconvert_exporter": "python",
   "pygments_lexer": "ipython3",
   "version": "3.10.6"
  }
 },
 "nbformat": 4,
 "nbformat_minor": 5
}
