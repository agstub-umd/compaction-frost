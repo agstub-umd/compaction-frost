{
 "cells": [
  {
   "cell_type": "markdown",
   "id": "ba1c6864-8a95-4c87-b34e-cd18af1c4c20",
   "metadata": {},
   "source": [
    "# Frost heave compaction solver"
   ]
  },
  {
   "cell_type": "markdown",
   "id": "80eb6396",
   "metadata": {},
   "source": [
    "This notebook solves a frost heave compaction problem in one spatial dimension (vertical). \n",
    "\n",
    "The code requires [FEniCSx](https://fenicsproject.org). The notebook can be run \n",
    "through a [Docker](https://www.docker.com) container with the command:\n",
    "\n",
    "`docker run --init -ti -p 8888:8888 -v $(pwd):/home/fenics/shared -w /home/fenics/shared dolfinx/lab:stable`"
   ]
  },
  {
   "cell_type": "markdown",
   "id": "ded7fb5b-5fab-4d0f-b0d2-6fae180d42fd",
   "metadata": {},
   "source": [
    "Various imports:"
   ]
  },
  {
   "cell_type": "code",
   "execution_count": 1,
   "id": "51c1d7d8-a875-4281-bcf8-0a15d49f345c",
   "metadata": {},
   "outputs": [],
   "source": [
    "%load_ext autoreload\n",
    "%autoreload 2\n",
    "# add path to code\n",
    "import sys\n",
    "sys.path.insert(0, '../source')"
   ]
  },
  {
   "cell_type": "code",
   "execution_count": 2,
   "id": "3c415d57-2a82-48a0-acdb-3d9579f4c4b9",
   "metadata": {},
   "outputs": [],
   "source": [
    "#!pip install --user ipyparallel"
   ]
  },
  {
   "cell_type": "code",
   "execution_count": 3,
   "id": "734fd229-a6ac-43f0-a625-6237b4f91c4e",
   "metadata": {
    "tags": []
   },
   "outputs": [],
   "source": [
    "import matplotlib.pyplot as plt\n",
    "import numpy as np\n",
    "import ipyparallel as ipp\n",
    "import os "
   ]
  },
  {
   "cell_type": "markdown",
   "id": "9d7e791f",
   "metadata": {},
   "source": [
    "Define domain:"
   ]
  },
  {
   "cell_type": "code",
   "execution_count": 4,
   "id": "9083692a-e2f4-46d3-b07f-e37a8a479c5f",
   "metadata": {},
   "outputs": [
    {
     "name": "stdout",
     "output_type": "stream",
     "text": [
      "Starting 10 engines with <class 'ipyparallel.cluster.launcher.LocalEngineSetLauncher'>\n"
     ]
    },
    {
     "data": {
      "application/vnd.jupyter.widget-view+json": {
       "model_id": "6d593b5a66954a97bc568d615ed7b5ac",
       "version_major": 2,
       "version_minor": 0
      },
      "text/plain": [
       "  0%|          | 0/10 [00:00<?, ?engine/s]"
      ]
     },
     "metadata": {},
     "output_type": "display_data"
    },
    {
     "data": {
      "text/plain": [
       "<AsyncResult(execute): finished>"
      ]
     },
     "execution_count": 4,
     "metadata": {},
     "output_type": "execute_result"
    }
   ],
   "source": [
    "mycluster = ipp.Cluster(n = 10)\n",
    "rc = mycluster.start_and_connect_sync()\n",
    "view = rc.load_balanced_view()\n",
    "dview = rc[:]\n",
    "dview.block = True\n",
    "dview.execute('import numpy as np')\n",
    "dview.execute('import sys')\n",
    "dview.execute('sys.path.insert(0, \"../source\")')\n",
    "dview.execute('from solvers import time_stepping, initialize')\n",
    "dview.execute('from params import nz')\n",
    "dview.execute('from dolfinx.mesh import create_interval')\n",
    "dview.execute('from mpi4py import MPI')"
   ]
  },
  {
   "cell_type": "code",
   "execution_count": null,
   "id": "31b62c75-a56d-4094-b4e7-2fef1cd4412e",
   "metadata": {},
   "outputs": [],
   "source": [
    "# old old old old \n",
    "\n",
    "# v_i = np.arange(0.08,0.09,0.0001)   # for N_f = 1.5 \n",
    "# timesteps = np.linspace(0,1e3,8000) # for N_f = 1.5\n",
    "\n",
    "# v_i = np.arange(0.053,0.060,0.0001)   # for N_f = 1.75 \n",
    "# timesteps = np.linspace(0,2e3,8000) # for N_f = 1.75\n",
    "\n",
    "# v_i = np.arange(0.04,0.049,0.0001)   # for N_f = 1.9 \n",
    "# timesteps = np.linspace(0,4e3,8000)  # for N_f = 1.9\n",
    "\n",
    "# v_i = np.arange(0.016,0.025,0.0001)   # for N_f = 2.5 \n",
    "# timesteps = np.linspace(0,1e4,8000)   # for N_f = 2.5"
   ]
  },
  {
   "cell_type": "code",
   "execution_count": 130,
   "id": "bd0a2474-3d9e-4995-82a4-c5c3d1e10763",
   "metadata": {},
   "outputs": [],
   "source": [
    "# v_i = np.arange(0.067,0.075,0.0001)   # for N_f = 1.6 \n",
    "# timesteps = np.linspace(0,2e3,8000) # for N_f = 1.6\n",
    "\n",
    "# v_i = np.arange(0.048,0.056,0.0001)   # for N_f = 1.8 \n",
    "# timesteps = np.linspace(0,4e3,8000)   # for N_f = 1.8\n",
    "\n",
    "# v_i = np.arange(0.035,0.043,0.0001) # for N_f = 2\n",
    "# timesteps = np.linspace(0,6e3,8000) # for N_f = 2\n",
    "\n",
    "\n",
    "v_i = np.arange(0.025,0.033,0.0001) # for N_f = 2.2\n",
    "timesteps = np.linspace(0,8e3,8000) # for N_f = 2.2\n",
    "\n",
    "\n",
    "mydict = dict(v_i = v_i,timesteps=timesteps)\n",
    "dview.push(mydict);"
   ]
  },
  {
   "cell_type": "code",
   "execution_count": 131,
   "id": "26dd1a4b-5411-4b3c-b71c-85dd5dbc3509",
   "metadata": {},
   "outputs": [
    {
     "data": {
      "text/plain": [
       "80"
      ]
     },
     "execution_count": 131,
     "metadata": {},
     "output_type": "execute_result"
    }
   ],
   "source": [
    "v_i.size"
   ]
  },
  {
   "cell_type": "markdown",
   "id": "bfaddb04-8657-4e43-8e18-ad58fa2c90d2",
   "metadata": {},
   "source": [
    "Set $N_f$ in wrapper below:"
   ]
  },
  {
   "cell_type": "code",
   "execution_count": 132,
   "id": "09193b88-e0be-4bcc-b6ad-e51ccdc513d6",
   "metadata": {},
   "outputs": [],
   "source": [
    "def wrapper(i):\n",
    "    N_f = 2.2  # effective stress at base of fringe \n",
    "    z_l = 5\n",
    "    z_b = 0\n",
    "    domain = create_interval(MPI.COMM_WORLD,nz,[z_b,z_l])\n",
    "    initial = initialize(domain,N_f)\n",
    "    N,z,new_lens,heave,converged = time_stepping(domain,initial,N_f,v_i[i],timesteps,eps=1e-10)\n",
    "    h = np.max(z,axis=1)\n",
    "    return([h,new_lens])"
   ]
  },
  {
   "cell_type": "code",
   "execution_count": null,
   "id": "efd0f609-28b7-497c-813d-4eb70a38d04b",
   "metadata": {},
   "outputs": [
    {
     "data": {
      "application/vnd.jupyter.widget-view+json": {
       "model_id": "d94daceac89c47189d5290adcd44a17e",
       "version_major": 2,
       "version_minor": 0
      },
      "text/plain": [
       "unknown:   0%|          | 0/80 [00:00<?, ?tasks/s]"
      ]
     },
     "metadata": {},
     "output_type": "display_data"
    }
   ],
   "source": [
    "parameters = list(range(v_i.size))\n",
    "async_results = []\n",
    "for i in parameters:\n",
    "    async_result = view.apply_async(wrapper, i)\n",
    "    async_results.append(async_result)\n",
    "\n",
    "rc.wait_interactive(async_results)\n",
    "\n",
    "results = [ar.get() for ar in async_results]"
   ]
  },
  {
   "cell_type": "code",
   "execution_count": null,
   "id": "1c8e7ceb-2e5f-492d-ac45-219eddc16ca9",
   "metadata": {},
   "outputs": [],
   "source": [
    "fname = 'results-Nf-2p2.npy'\n",
    "res = {'results':results,'v_i':v_i,'timesteps':timesteps}\n",
    "if os.path.isfile('./'+fname) == False:\n",
    "    np.save(fname,res)\n",
    "else:\n",
    "    print(\"File already exists, choose new filename\")"
   ]
  },
  {
   "cell_type": "markdown",
   "id": "10a5a0c2-6bb5-4ee5-a427-c9def95ea3b1",
   "metadata": {},
   "source": [
    "Plotting:"
   ]
  },
  {
   "cell_type": "code",
   "execution_count": 137,
   "id": "c18708c1-7936-49aa-b197-dd9287ed96d0",
   "metadata": {},
   "outputs": [
    {
     "data": {
      "image/png": "[encoded data removed]",
      "text/plain": [
       "<Figure size 800x400 with 1 Axes>"
      ]
     },
     "metadata": {},
     "output_type": "display_data"
    }
   ],
   "source": [
    "\n",
    "plt.figure(figsize=(8,4))\n",
    "for i in range(v_i.size):\n",
    "    h = results[i][0][int(0.5*timesteps.size):None]\n",
    "    new_lens = results[i][1][int(0.5*timesteps.size):None]\n",
    "    old_lens = np.roll(new_lens,-1)\n",
    "    jumps = h[old_lens==1] - h[new_lens==1]\n",
    "    plt.plot(v_i[i]*np.ones(h[old_lens==1].size),jumps,'o',markersize=3,color='k')\n",
    "plt.xticks(fontsize=16)\n",
    "plt.yticks(fontsize=16)\n",
    "plt.ylabel(r'$z_\\ell^\\star - z_\\mathrm{n} $',fontsize=20)\n",
    "plt.xlabel(r'$v_\\mathrm{i}$',fontsize=20) \n",
    "# plt.ylim(3,12)\n",
    "plt.show()\n",
    "plt.close()"
   ]
  },
  {
   "cell_type": "code",
   "execution_count": null,
   "id": "82383411-3380-4f71-896f-bdb8d6d0fc78",
   "metadata": {},
   "outputs": [],
   "source": [
    "h = results[-1][0][int(0.0*timesteps.size):None]\n",
    "\n",
    "plt.plot(h,'ko')\n",
    "plt.show()"
   ]
  },
  {
   "cell_type": "code",
   "execution_count": null,
   "id": "697670ac-8f5b-4f60-82d0-1bed91c9766c",
   "metadata": {},
   "outputs": [],
   "source": []
  }
 ],
 "metadata": {
  "kernelspec": {
   "display_name": "Python 3 (ipykernel)",
   "language": "python",
   "name": "python3"
  },
  "language_info": {
   "codemirror_mode": {
    "name": "ipython",
    "version": 3
   },
   "file_extension": ".py",
   "mimetype": "text/x-python",
   "name": "python",
   "nbconvert_exporter": "python",
   "pygments_lexer": "ipython3",
   "version": "3.10.6"
  }
 },
 "nbformat": 4,
 "nbformat_minor": 5
}
