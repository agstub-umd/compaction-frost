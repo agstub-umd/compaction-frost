{
 "cells": [
  {
   "cell_type": "markdown",
   "id": "ba1c6864-8a95-4c87-b34e-cd18af1c4c20",
   "metadata": {},
   "source": [
    "# Frost heave compaction solver"
   ]
  },
  {
   "cell_type": "markdown",
   "id": "80eb6396",
   "metadata": {},
   "source": [
    "This notebook solves a frost heave compaction problem in one spatial dimension (vertical). \n",
    "\n",
    "The code requires [FEniCSx](https://fenicsproject.org). The notebook can be run \n",
    "through a [Docker](https://www.docker.com) container with the command:\n",
    "\n",
    "`docker run --init -ti -p 8888:8888 -v $(pwd):/home/fenics/shared -w /home/fenics/shared dolfinx/lab:stable`"
   ]
  },
  {
   "cell_type": "markdown",
   "id": "ded7fb5b-5fab-4d0f-b0d2-6fae180d42fd",
   "metadata": {},
   "source": [
    "Various imports:"
   ]
  },
  {
   "cell_type": "code",
   "execution_count": null,
   "id": "51c1d7d8-a875-4281-bcf8-0a15d49f345c",
   "metadata": {},
   "outputs": [],
   "source": [
    "%load_ext autoreload\n",
    "%autoreload 2\n",
    "# add path to code\n",
    "import sys\n",
    "sys.path.insert(0, '../source')"
   ]
  },
  {
   "cell_type": "code",
   "execution_count": null,
   "id": "3c415d57-2a82-48a0-acdb-3d9579f4c4b9",
   "metadata": {},
   "outputs": [],
   "source": [
    "# !pip install --user ipyparallel"
   ]
  },
  {
   "cell_type": "code",
   "execution_count": null,
   "id": "734fd229-a6ac-43f0-a625-6237b4f91c4e",
   "metadata": {
    "tags": []
   },
   "outputs": [],
   "source": [
    "import matplotlib.pyplot as plt\n",
    "import numpy as np\n",
    "import ipyparallel as ipp\n",
    "import os \n",
    "from scipy.interpolate import interp1d\n",
    "from scipy.optimize import root_scalar"
   ]
  },
  {
   "cell_type": "markdown",
   "id": "9d7e791f",
   "metadata": {},
   "source": [
    "Start ipyparallel cluster for running a bunch of examples in parallel"
   ]
  },
  {
   "cell_type": "code",
   "execution_count": null,
   "id": "9083692a-e2f4-46d3-b07f-e37a8a479c5f",
   "metadata": {},
   "outputs": [],
   "source": [
    "mycluster = ipp.Cluster(n = 2)\n",
    "rc = mycluster.start_and_connect_sync()\n",
    "view = rc.load_balanced_view()\n",
    "dview = rc[:]\n",
    "dview.block = True\n",
    "dview.execute('import numpy as np')\n",
    "dview.execute('import sys')\n",
    "dview.execute('sys.path.insert(0, \"../source\")')\n",
    "dview.execute('from wrapper import wrapper_v')"
   ]
  },
  {
   "cell_type": "markdown",
   "id": "68caee93-c945-42ac-99dc-3b077b8c3e0f",
   "metadata": {},
   "source": [
    "Set initial conditions and timesteps for the examples in wrapper.py"
   ]
  },
  {
   "cell_type": "markdown",
   "id": "4a423ddd-ea7e-4cf8-99d2-6ef6d547ddce",
   "metadata": {},
   "source": [
    "Compute lens initiation condition for range of initial conditions at $v_i=0.037$:"
   ]
  },
  {
   "cell_type": "code",
   "execution_count": null,
   "id": "cd44c122-1851-4a58-a370-010518e0d056",
   "metadata": {},
   "outputs": [],
   "source": [
    "from wrapper import wrapper_v, z_0"
   ]
  },
  {
   "cell_type": "code",
   "execution_count": null,
   "id": "bd0614f2-a07b-47c4-afc7-f64f1ea5d8f3",
   "metadata": {},
   "outputs": [],
   "source": [
    "v_i = 0.037\n",
    "mydict = dict(v_i = v_i)\n",
    "dview.push(mydict);\n",
    "\n",
    "wrapper_ = lambda i: wrapper_v(i,v_i)\n",
    "parameters = list(range(z_0.size))\n",
    "async_results = []\n",
    "for i in parameters:\n",
    "    async_result = view.apply_async(wrapper_, i)\n",
    "    async_results.append(async_result)\n",
    "\n",
    "rc.wait_interactive(async_results)\n",
    "\n",
    "results = [ar.get() for ar in async_results]\n",
    "\n",
    "fname = 'results-phase-37.npy'\n",
    "res = {'results':results,'z_0':z_0,'timesteps':timesteps}\n",
    "np.save(fname,res)"
   ]
  },
  {
   "cell_type": "markdown",
   "id": "46b30203-5784-4ea1-8f5c-d31705f4a3f9",
   "metadata": {},
   "source": [
    "Repeat for three other examples: "
   ]
  },
  {
   "cell_type": "code",
   "execution_count": null,
   "id": "0ad1fa36-1c94-4148-b1aa-bb7f4b217d45",
   "metadata": {},
   "outputs": [],
   "source": [
    "v_i = 0.0375\n",
    "mydict = dict(v_i = v_i)\n",
    "dview.push(mydict);\n",
    "wrapper_ = lambda i: wrapper_v(i,v_i)\n",
    "parameters = list(range(z_0.size))\n",
    "async_results = []\n",
    "for i in parameters: \n",
    "    async_result = view.apply_async(wrapper_, i)\n",
    "    async_results.append(async_result)\n",
    "\n",
    "rc.wait_interactive(async_results)\n",
    "\n",
    "results = [ar.get() for ar in async_results]\n",
    "\n",
    "fname = 'results-phase-37p5.npy'\n",
    "res = {'results':results,'z_0':z_0,'timesteps':timesteps}\n",
    "np.save(fname,res)"
   ]
  },
  {
   "cell_type": "code",
   "execution_count": null,
   "id": "5ab44593-1f09-4aeb-905a-5689963167c4",
   "metadata": {},
   "outputs": [],
   "source": [
    "v_i = 0.038\n",
    "mydict = dict(v_i = v_i)\n",
    "dview.push(mydict);\n",
    "wrapper_ = lambda i: wrapper_v(i,v_i)\n",
    "parameters = list(range(z_0.size))\n",
    "async_results = []\n",
    "for i in parameters: \n",
    "    async_result = view.apply_async(wrapper_, i)\n",
    "    async_results.append(async_result)\n",
    "\n",
    "rc.wait_interactive(async_results)\n",
    "\n",
    "results = [ar.get() for ar in async_results]\n",
    "\n",
    "fname = 'results-phase-38.npy'\n",
    "res = {'results':results,'z_0':z_0,'timesteps':timesteps}\n",
    "np.save(fname,res)"
   ]
  },
  {
   "cell_type": "code",
   "execution_count": null,
   "id": "25cdce5c-ea89-4434-98a6-304d7c31b547",
   "metadata": {},
   "outputs": [],
   "source": [
    "v_i = 0.0385\n",
    "mydict = dict(v_i = v_i)\n",
    "dview.push(mydict);\n",
    "wrapper_ = lambda i: wrapper_v(i,v_i)\n",
    "parameters = list(range(z_0.size))\n",
    "async_results = []\n",
    "for i in parameters: \n",
    "    async_result = view.apply_async(wrapper_, i)\n",
    "    async_results.append(async_result)\n",
    "\n",
    "rc.wait_interactive(async_results)\n",
    "\n",
    "results = [ar.get() for ar in async_results]\n",
    "\n",
    "fname = 'results-phase-38p5.npy'\n",
    "res = {'results':results,'z_0':z_0,'timesteps':timesteps}\n",
    "np.save(fname,res)"
   ]
  },
  {
   "cell_type": "markdown",
   "id": "10a5a0c2-6bb5-4ee5-a427-c9def95ea3b1",
   "metadata": {},
   "source": [
    "Plotting:"
   ]
  },
  {
   "cell_type": "markdown",
   "id": "fded06da-dd54-45b3-bef0-ef0a95249f8e",
   "metadata": {},
   "source": [
    "Interpolate recurrence relations:"
   ]
  },
  {
   "cell_type": "code",
   "execution_count": null,
   "id": "a925f0c4-12c2-40eb-b187-8070208e712e",
   "metadata": {},
   "outputs": [],
   "source": [
    "# WRITE LOAD SCRIPT!!!"
   ]
  },
  {
   "cell_type": "code",
   "execution_count": null,
   "id": "4c588a08-7673-4835-af7f-34cb5855b43f",
   "metadata": {},
   "outputs": [],
   "source": [
    "# zn_z1_c = zn_z1_c[z_0<12.1]\n",
    "# zn_z2_c = zn_z2_c[z_0<12.1]\n",
    "# zn_z3_c = zn_z3_c[z_0<12.1]\n",
    "# zn_z4_c = zn_z4_c[z_0<12.1]\n",
    "# z_0 = z_0[z_0<12.1]"
   ]
  },
  {
   "cell_type": "code",
   "execution_count": null,
   "id": "ca1b9ed2-0348-47da-8064-04168d51ba77",
   "metadata": {},
   "outputs": [],
   "source": [
    "f_1 = interp1d(z_0,zn_z1_c,fill_value='extrapolate')\n",
    "# f_2 = interp1d(z_0,zn_z2_c,fill_value='extrapolate')\n",
    "# f_3 = interp1d(z_0,zn_z3_c,fill_value='extrapolate')\n",
    "# f_4 = interp1d(z_0,zn_z4_c,fill_value='extrapolate')"
   ]
  },
  {
   "cell_type": "markdown",
   "id": "1c0d1d76-bb5e-449b-b260-a006487cc775",
   "metadata": {},
   "source": [
    "Find fixed points:"
   ]
  },
  {
   "cell_type": "code",
   "execution_count": null,
   "id": "63da3bc1-febc-484c-a732-f8dde0405fb4",
   "metadata": {},
   "outputs": [],
   "source": [
    "ze_1 = root_scalar(lambda z: f_1(z)-z,x0=8,x1=10,method='secant').root\n",
    "# ze_2 = root_scalar(lambda z: f_2(z)-z,x0=8,x1=10,method='secant').root\n",
    "# ze_3 = root_scalar(lambda z: f_3(z)-z,x0=8,x1=10,method='secant').root\n",
    "# ze_4 = root_scalar(lambda z: f_4(z)-z,x0=8,x1=10,method='secant').root"
   ]
  },
  {
   "cell_type": "code",
   "execution_count": null,
   "id": "2c9b2043-0fc0-4fb3-a05f-9c64c60e9ff3",
   "metadata": {},
   "outputs": [],
   "source": [
    "plt.figure(figsize=(8,6))\n",
    "# plt.subplot(221)\n",
    "# plt.title(r'(a)$\\qquad v_\\mathrm{i} = 0.037$',fontsize=20,loc='left')\n",
    "# plt.plot(z_0,zn_z1_c,'o-',color='gray')\n",
    "# plt.plot(z_0,z_0,':',color='k',alpha=0.25)\n",
    "# plt.plot([limit1[2:j1-2]],[np.roll(limit1,-1)[2:j1-2]],'o',color='forestgreen',markersize=8,markeredgecolor='k')\n",
    "# plt.plot(np.linspace(ze_1-1,ze_1+1),np.flipud(np.linspace(ze_1-1,ze_1+1)),'--',color='crimson',linewidth=2)\n",
    "# plt.plot([ze_1],[ze_1],'s',color='crimson',markersize=7,markeredgecolor='k')\n",
    "# plt.ylabel(r'$z_\\mathrm{n}^{j+1}$',fontsize=20)  \n",
    "# plt.gca().xaxis.set_ticklabels([])\n",
    "# plt.yticks(fontsize=16)\n",
    "# plt.xlim(4,12)\n",
    "# plt.ylim(5,12.5)\n",
    "\n",
    "# plt.subplot(222)\n",
    "# plt.title(r'(b)$\\qquad v_\\mathrm{i} = 0.0375$',fontsize=20,loc='left')\n",
    "\n",
    "# # # test cobweb\n",
    "# #--------------------------\n",
    "# N = 10\n",
    "# x0 = limit3[5]\n",
    "# x, y = x0, f_2(x0)\n",
    "# for j in range(N):\n",
    "#     fy = f_2(y)    \n",
    "#     plt.plot([x, y], [y,  y], 'b', linewidth=1,alpha=0.25)\n",
    "#     plt.plot([y, y], [y, fy], 'b', linewidth=1,alpha=0.25)\n",
    "#     x, y = y, fy\n",
    "# #--------------------------\n",
    "\n",
    "# plt.plot(z_0,zn_z2_c,'o-',color='gray')\n",
    "# plt.plot(z_0,z_0,':',color='k',alpha=0.25)\n",
    "# plt.plot([limit3[2:j3-2]],[np.roll(limit3,-1)[2:j3-2]],'o',color='forestgreen',markersize=8,markeredgecolor='k')\n",
    "# plt.plot(np.linspace(ze_2-1,ze_2+1),np.flipud(np.linspace(ze_2-1,ze_2+1)),'--',color='crimson',linewidth=2)\n",
    "# plt.plot([ze_2],[ze_2],'s',color='crimson',markersize=7,markeredgecolor='k')\n",
    "\n",
    "\n",
    "\n",
    "\n",
    "# plt.gca().yaxis.set_label_position(\"right\")\n",
    "# plt.gca().yaxis.tick_right()\n",
    "# plt.ylabel(r'$z_\\mathrm{n}^{j+1}$',fontsize=20)  \n",
    "# plt.gca().xaxis.set_ticklabels([])\n",
    "# plt.yticks(fontsize=16)\n",
    "# plt.xlim(4,12)\n",
    "# plt.ylim(5,12.5)\n",
    "\n",
    "# plt.subplot(223)\n",
    "\n",
    "# # # test cobweb\n",
    "# #--------------------------\n",
    "# N = 15\n",
    "# x0 = limit2[5]\n",
    "# x, y = x0, f_3(x0)\n",
    "# for j in range(N):\n",
    "#     fy = f_3(y)    \n",
    "#     plt.plot([x, y], [y,  y], 'b', linewidth=1,alpha=0.25)\n",
    "#     plt.plot([y, y], [y, fy], 'b', linewidth=1,alpha=0.25)\n",
    "#     x, y = y, fy\n",
    "# #--------------------------\n",
    "\n",
    "# plt.title(r'(c)$\\qquad v_\\mathrm{i} = 0.038$',fontsize=20,loc='left')\n",
    "# plt.plot(z_0,zn_z3_c,'o-',color='gray')\n",
    "# plt.plot(z_0,z_0,':',color='k',alpha=0.25)\n",
    "# plt.plot([limit2[2:j2-2]],[np.roll(limit2,-1)[2:j2-2]],'o',color='forestgreen',markersize=8,markeredgecolor='k')\n",
    "# plt.plot(np.linspace(ze_3-1,ze_3+1),np.flipud(np.linspace(ze_3-1,ze_3+1)),'--',color='crimson',linewidth=2)\n",
    "# plt.plot([ze_3],[ze_3],'s',color='crimson',markersize=7,markeredgecolor='k')\n",
    "\n",
    "\n",
    "# plt.ylabel(r'$z_\\mathrm{n}^{j+1}$',fontsize=20)  \n",
    "# plt.xlabel(r'$z_\\mathrm{n}^j$',fontsize=20)  \n",
    "# plt.xticks(fontsize=16)\n",
    "# plt.yticks(fontsize=16)\n",
    "# plt.xlim(4,12)\n",
    "# plt.ylim(5,12.5)\n",
    "\n",
    "# plt.subplot(224)\n",
    "\n",
    "# # test cobweb\n",
    "#--------------------------\n",
    "N = 20\n",
    "q = 0\n",
    "x0 = limit4[0]\n",
    "x, y = x0, f_4(x0)\n",
    "for j in range(N):\n",
    "    fy = f_4(y)    \n",
    "    plt.plot([x, y], [y,  y], 'b', linewidth=1,alpha=0.25)\n",
    "    plt.plot([y, y], [y, fy], 'b', linewidth=1,alpha=0.25)\n",
    "    x, y = y, fy\n",
    "#--------------------------\n",
    "\n",
    "\n",
    "plt.title(r'(d)$\\qquad v_\\mathrm{i} = 0.0385$',fontsize=20,loc='left')\n",
    "plt.plot(z_0,zn_z4_c,'o-',color='gray')\n",
    "plt.plot(z_0,z_0,':',color='k',alpha=0.25)\n",
    "plt.plot(z_0,10+ze_4-z_0,':',color='k',alpha=0.25)\n",
    "plt.plot(limit4[2:j4-2],np.roll(limit4,-1)[2:j4-2],'o',color='forestgreen',markersize=8,markeredgecolor='k',label='limit set')\n",
    "plt.plot(np.linspace(ze_4-1,ze_4+1),np.flipud(np.linspace(ze_4-1,ze_4+1)),'--',color='crimson',linewidth=2)\n",
    "plt.plot([ze_4],[ze_4],'s--',color='crimson',markersize=7,markeredgecolor='k',label='fixed point')\n",
    "\n",
    "plt.gca().yaxis.set_label_position(\"right\")\n",
    "plt.gca().yaxis.tick_right()\n",
    "plt.ylabel(r'$z_\\mathrm{n}^{j+1}$',fontsize=20)  \n",
    "plt.xlabel(r'$z_\\mathrm{n}^j$',fontsize=20)  \n",
    "plt.xticks(fontsize=16)\n",
    "plt.yticks(fontsize=16)\n",
    "plt.legend(fontsize=14,ncol=2,loc=(-0.6,-0.35))\n",
    "plt.xlim(4,12)\n",
    "plt.ylim(5,12.5)\n",
    "plt.savefig('maps',bbox_inches='tight')\n",
    "plt.show()\n",
    "plt.close()"
   ]
  },
  {
   "cell_type": "code",
   "execution_count": null,
   "id": "6938b0ff-a097-4604-bba1-12071760db48",
   "metadata": {},
   "outputs": [],
   "source": []
  }
 ],
 "metadata": {
  "kernelspec": {
   "display_name": "Python 3 (ipykernel)",
   "language": "python",
   "name": "python3"
  },
  "language_info": {
   "codemirror_mode": {
    "name": "ipython",
    "version": 3
   },
   "file_extension": ".py",
   "mimetype": "text/x-python",
   "name": "python",
   "nbconvert_exporter": "python",
   "pygments_lexer": "ipython3",
   "version": "3.10.6"
  }
 },
 "nbformat": 4,
 "nbformat_minor": 5
}
