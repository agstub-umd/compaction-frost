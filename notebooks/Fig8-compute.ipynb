{
 "cells": [
  {
   "cell_type": "markdown",
   "id": "ba1c6864-8a95-4c87-b34e-cd18af1c4c20",
   "metadata": {},
   "source": [
    "# Figure 8 calculations (parallel)"
   ]
  },
  {
   "cell_type": "markdown",
   "id": "80eb6396",
   "metadata": {},
   "source": [
    "This notebook solves a frost heave compaction problem in one spatial dimension (vertical). \n",
    "\n",
    "The code requires [FEniCSx](https://fenicsproject.org). The notebook can be run \n",
    "through a [Docker](https://www.docker.com) container with the command:\n",
    "\n",
    "`docker run --init -ti -p 8888:8888 -v $(pwd):/home/fenics/shared -w /home/fenics/shared dolfinx/lab:stable`"
   ]
  },
  {
   "cell_type": "markdown",
   "id": "ded7fb5b-5fab-4d0f-b0d2-6fae180d42fd",
   "metadata": {},
   "source": [
    "Various imports:"
   ]
  },
  {
   "cell_type": "code",
   "execution_count": null,
   "id": "51c1d7d8-a875-4281-bcf8-0a15d49f345c",
   "metadata": {},
   "outputs": [],
   "source": [
    "%load_ext autoreload\n",
    "%autoreload 2\n",
    "# add path to code\n",
    "import sys\n",
    "sys.path.insert(0, '../source')"
   ]
  },
  {
   "cell_type": "code",
   "execution_count": null,
   "id": "3c415d57-2a82-48a0-acdb-3d9579f4c4b9",
   "metadata": {},
   "outputs": [],
   "source": [
    "#!pip install --user ipyparallel"
   ]
  },
  {
   "cell_type": "code",
   "execution_count": null,
   "id": "734fd229-a6ac-43f0-a625-6237b4f91c4e",
   "metadata": {
    "tags": []
   },
   "outputs": [],
   "source": [
    "import matplotlib.pyplot as plt\n",
    "import numpy as np\n",
    "import ipyparallel as ipp\n",
    "import os "
   ]
  },
  {
   "cell_type": "code",
   "execution_count": null,
   "id": "9083692a-e2f4-46d3-b07f-e37a8a479c5f",
   "metadata": {},
   "outputs": [],
   "source": [
    "mycluster = ipp.Cluster(n = 2)\n",
    "rc = mycluster.start_and_connect_sync()\n",
    "view = rc.load_balanced_view()\n",
    "dview = rc[:]\n",
    "dview.block = True\n",
    "dview.execute('import sys')\n",
    "dview.execute('sys.path.insert(0, \"../source\")')\n",
    "dview.execute('from wrapper import wrapper_N')"
   ]
  },
  {
   "cell_type": "code",
   "execution_count": null,
   "id": "7f27707f-6428-4328-81f4-7bf74f191e47",
   "metadata": {},
   "outputs": [],
   "source": [
    "from wrapper import wrapper_N"
   ]
  },
  {
   "cell_type": "code",
   "execution_count": null,
   "id": "65af3feb-155f-4428-875f-b80a47646118",
   "metadata": {},
   "outputs": [],
   "source": [
    "N_f = 1.6\n",
    "v_i = np.arange(0.067,0.075,0.0001)   # for N_f = 1.6 \n",
    "timesteps = np.linspace(0,2e3,8000) # for N_f = 1.6\n",
    "\n",
    "mydict = dict(v_i = v_i,timesteps=timesteps,N_f=N_f)\n",
    "dview.push(mydict);\n",
    "\n",
    "wrapper_ = lambda i: wrapper_N(i,N_f,v_i,timesteps)\n",
    "\n",
    "parameters = list(range(v_i.size))\n",
    "async_results = []\n",
    "for i in parameters:\n",
    "    async_result = view.apply_async(wrapper_, i)\n",
    "    async_results.append(async_result)\n",
    "\n",
    "rc.wait_interactive(async_results)\n",
    "\n",
    "results = [ar.get() for ar in async_results]\n",
    "\n",
    "fname = 'results-Nf-1p6.npy'\n",
    "res = {'results':results,'v_i':v_i,'timesteps':timesteps}\n",
    "np.save(fname,res)"
   ]
  },
  {
   "cell_type": "code",
   "execution_count": null,
   "id": "356f6881-f51d-4590-8eea-9860c0c9275f",
   "metadata": {},
   "outputs": [],
   "source": [
    "N_f = 1.8\n",
    "v_i = np.arange(0.048,0.056,0.0001)   # for N_f = 1.8 \n",
    "timesteps = np.linspace(0,4e3,8000)   # for N_f = 1.8\n",
    "\n",
    "mydict = dict(v_i = v_i,timesteps=timesteps,N_f=N_f)\n",
    "dview.push(mydict);\n",
    "\n",
    "wrapper_ = lambda i: wrapper_N(i,N_f,v_i,timesteps)\n",
    "\n",
    "parameters = list(range(v_i.size))\n",
    "async_results = []\n",
    "for i in parameters:\n",
    "    async_result = view.apply_async(wrapper_, i)\n",
    "    async_results.append(async_result)\n",
    "\n",
    "rc.wait_interactive(async_results)\n",
    "\n",
    "results = [ar.get() for ar in async_results]\n",
    "\n",
    "fname = 'results-Nf-1p8.npy'\n",
    "res = {'results':results,'v_i':v_i,'timesteps':timesteps}\n",
    "np.save(fname,res)"
   ]
  },
  {
   "cell_type": "code",
   "execution_count": null,
   "id": "b66fba20-cfcd-497f-9fb5-b88373e9437b",
   "metadata": {},
   "outputs": [],
   "source": [
    "N_f = 2.0\n",
    "v_i = np.arange(0.035,0.043,0.0001) # for N_f = 2\n",
    "timesteps = np.linspace(0,6e3,8000) # for N_f = 2\n",
    "\n",
    "mydict = dict(v_i = v_i,timesteps=timesteps,N_f=N_f)\n",
    "dview.push(mydict);\n",
    "\n",
    "wrapper_ = lambda i: wrapper_N(i,N_f,v_i,timesteps)\n",
    "\n",
    "parameters = list(range(v_i.size))\n",
    "async_results = []\n",
    "for i in parameters:\n",
    "    async_result = view.apply_async(wrapper_, i)\n",
    "    async_results.append(async_result)\n",
    "\n",
    "rc.wait_interactive(async_results)\n",
    "\n",
    "results = [ar.get() for ar in async_results]\n",
    "\n",
    "fname = 'results-Nf-2.npy'\n",
    "res = {'results':results,'v_i':v_i,'timesteps':timesteps}\n",
    "np.save(fname,res)"
   ]
  },
  {
   "cell_type": "code",
   "execution_count": null,
   "id": "36aa6b20-8b2b-4673-86a2-29b8a42d3965",
   "metadata": {},
   "outputs": [],
   "source": [
    "N_f = 1.75\n",
    "v_i = np.arange(0.053,0.060,0.0001)   # for N_f = 1.75 \n",
    "timesteps = np.linspace(0,2e3,8000) # for N_f = 1.75\n",
    "\n",
    "mydict = dict(v_i = v_i,timesteps=timesteps,N_f=N_f)\n",
    "dview.push(mydict);\n",
    "\n",
    "wrapper_ = lambda i: wrapper_N(i,N_f,v_i,timesteps)\n",
    "\n",
    "parameters = list(range(v_i.size))\n",
    "async_results = []\n",
    "for i in parameters:\n",
    "    async_result = view.apply_async(wrapper_, i)\n",
    "    async_results.append(async_result)\n",
    "\n",
    "rc.wait_interactive(async_results)\n",
    "\n",
    "results = [ar.get() for ar in async_results]\n",
    "\n",
    "fname = 'results-Nf-1p75.npy'\n",
    "res = {'results':results,'v_i':v_i,'timesteps':timesteps}\n",
    "np.save(fname,res)"
   ]
  }
 ],
 "metadata": {
  "kernelspec": {
   "display_name": "Python 3 (ipykernel)",
   "language": "python",
   "name": "python3"
  },
  "language_info": {
   "codemirror_mode": {
    "name": "ipython",
    "version": 3
   },
   "file_extension": ".py",
   "mimetype": "text/x-python",
   "name": "python",
   "nbconvert_exporter": "python",
   "pygments_lexer": "ipython3",
   "version": "3.10.6"
  }
 },
 "nbformat": 4,
 "nbformat_minor": 5
}
