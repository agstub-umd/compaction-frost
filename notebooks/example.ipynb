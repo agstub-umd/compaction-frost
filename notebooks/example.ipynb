{
 "cells": [
  {
   "cell_type": "markdown",
   "id": "ba1c6864-8a95-4c87-b34e-cd18af1c4c20",
   "metadata": {},
   "source": [
    "# Compaction Solver"
   ]
  },
  {
   "cell_type": "markdown",
   "id": "80eb6396",
   "metadata": {},
   "source": [
    "This notebook solves the viscous compaction problem in one spatial dimension (vertical). \n",
    "\n",
    "For a brief overview of the problem and numerical method, see the notebook notes.ipynb.\n",
    "\n",
    "The code requires [FEniCSx](https://fenicsproject.org). The notebook can be run \n",
    "through a [Docker](https://www.docker.com) container with the command:\n",
    "\n",
    "`docker run --init -ti -p 8888:8888 -v $(pwd):/home/fenics/shared -w /home/fenics/shared dolfinx/lab:stable`"
   ]
  },
  {
   "cell_type": "markdown",
   "id": "ded7fb5b-5fab-4d0f-b0d2-6fae180d42fd",
   "metadata": {},
   "source": [
    "Various imports:"
   ]
  },
  {
   "cell_type": "code",
   "execution_count": null,
   "id": "51c1d7d8-a875-4281-bcf8-0a15d49f345c",
   "metadata": {},
   "outputs": [],
   "source": [
    "%load_ext autoreload\n",
    "%autoreload 2\n",
    "# add path to code\n",
    "import sys\n",
    "sys.path.insert(0, '../source')"
   ]
  },
  {
   "cell_type": "code",
   "execution_count": null,
   "id": "734fd229-a6ac-43f0-a625-6237b4f91c4e",
   "metadata": {},
   "outputs": [],
   "source": [
    "import matplotlib.pyplot as plt\n",
    "import matplotlib.pylab as pl\n",
    "import numpy as np\n",
    "from dolfinx.fem import Constant, Function, FunctionSpace, Expression\n",
    "from dolfinx.mesh import create_interval\n",
    "from misc import interp, sat, C, temp, K\n",
    "from mpi4py import MPI\n",
    "from params import nt, nz, phi0, delta, L, Tf, Tm\n",
    "from petsc4py import PETSc\n",
    "from solvers import vel_solve, full_solve\n",
    "from ufl import FiniteElement, MixedElement, Dx"
   ]
  },
  {
   "cell_type": "code",
   "execution_count": null,
   "id": "9cbef7ef-fb19-452c-a9a9-4fd1ea627125",
   "metadata": {},
   "outputs": [],
   "source": [
    "print('compaction length delta = '+'{:.2e}'.format(delta)+' m')\n",
    "# print('density = '+'{:.2e}'.format(rho_b)+' kg/m^3')"
   ]
  },
  {
   "cell_type": "markdown",
   "id": "9d7e791f",
   "metadata": {},
   "source": [
    "Define domain:"
   ]
  },
  {
   "cell_type": "code",
   "execution_count": null,
   "id": "55519a2d",
   "metadata": {},
   "outputs": [],
   "source": [
    "# generate mesh, initial domain is scaled height of 1 \n",
    "domain = create_interval(MPI.COMM_WORLD,nz,[-L,0])"
   ]
  },
  {
   "cell_type": "markdown",
   "id": "b8234f00-d7c5-4bbe-996e-80b609a97adb",
   "metadata": {},
   "source": [
    "Define initial porosity:"
   ]
  },
  {
   "cell_type": "code",
   "execution_count": null,
   "id": "18496f1f-29d3-43c4-9802-39728869117c",
   "metadata": {},
   "outputs": [],
   "source": [
    "P1 = FiniteElement('P',domain.ufl_cell(),1)     \n",
    "element = P1*P1\n",
    "V = FunctionSpace(domain,element)   \n",
    "initial = Function(V)\n",
    "initial.sub(1).interpolate(lambda x:phi0+0*x[0])"
   ]
  },
  {
   "cell_type": "markdown",
   "id": "87963766-63b3-4d33-bb75-79d9e97c4d31",
   "metadata": {},
   "source": [
    "Solve the momentum balance for the initial porosity to obtain the initial velocity:"
   ]
  },
  {
   "cell_type": "code",
   "execution_count": null,
   "id": "b6a08af2-3ecf-4f6a-a774-73e7399eaf66",
   "metadata": {},
   "outputs": [],
   "source": [
    "Gamma = 0 # mass supply rate to ice lens"
   ]
  },
  {
   "cell_type": "code",
   "execution_count": null,
   "id": "55394522-9f93-450a-8b14-a41e8d4d2838",
   "metadata": {},
   "outputs": [],
   "source": [
    "w = vel_solve(domain,phi0,Gamma)\n",
    "initial.sub(0).interpolate(w)"
   ]
  },
  {
   "cell_type": "code",
   "execution_count": null,
   "id": "bce7f6dd-8403-4bff-9672-19e03a1b294c",
   "metadata": {},
   "outputs": [],
   "source": [
    "V0 = FunctionSpace(domain, (\"CG\", 1)) \n",
    "wz_i = Function(V0)\n",
    "wz_i.interpolate(Expression(Dx(w,0), V0.element.interpolation_points()))\n",
    "\n",
    "z = domain.geometry.x[:,0]\n",
    "w_ = w.x.array\n",
    "wz = wz_i.x.array\n",
    "T = temp(z)\n",
    "S_ = sat(T)\n",
    "K_ = K(S_)\n",
    "\n",
    "plt.figure(figsize=(10,6))\n",
    "plt.subplot(141)\n",
    "plt.plot(T,z)\n",
    "plt.axvline(x=0,color='k',linestyle='--',linewidth=1)\n",
    "plt.xlabel(r'$\\theta$',fontsize=16)\n",
    "plt.ylabel(r'$z$',fontsize=16)\n",
    "plt.subplot(142)\n",
    "plt.plot(w_,z)\n",
    "plt.xlabel(r'$w_\\mathrm{s}$',fontsize=16)\n",
    "plt.yticks([])\n",
    "plt.subplot(143)\n",
    "plt.plot(wz,z,'--')\n",
    "plt.axvline(x=0,color='k',linestyle='--',linewidth=1)\n",
    "plt.xlabel(r'$\\frac{\\partial w_\\mathrm{s}}{\\partial z}$',fontsize=16)\n",
    "plt.yticks([])\n",
    "plt.subplot(144)\n",
    "plt.plot(S_,z)\n",
    "plt.xlim(-0.1,1.1)\n",
    "plt.xlabel(r'$S$',fontsize=16)\n",
    "plt.gca().yaxis.set_label_position(\"right\")\n",
    "plt.gca().yaxis.tick_right()\n",
    "plt.ylabel(r'$z$',fontsize=16)\n",
    "plt.show()\n",
    "plt.close()"
   ]
  },
  {
   "cell_type": "code",
   "execution_count": null,
   "id": "ad9c023c-5556-4619-b2f9-2e5fc86768e8",
   "metadata": {},
   "outputs": [],
   "source": [
    "V = FunctionSpace(domain, (\"CG\", 1))\n",
    "wi = Function(V)    # initial ice velocity"
   ]
  },
  {
   "cell_type": "code",
   "execution_count": null,
   "id": "31543ad1-244f-41c3-93da-50907f245722",
   "metadata": {},
   "outputs": [],
   "source": [
    "m = 0#-1e-1 # melting rate"
   ]
  },
  {
   "cell_type": "code",
   "execution_count": null,
   "id": "35afc280-0125-4177-88ca-113409328703",
   "metadata": {},
   "outputs": [],
   "source": [
    "ws,phi, wi, z = full_solve(domain,initial,m,Gamma)"
   ]
  },
  {
   "cell_type": "code",
   "execution_count": null,
   "id": "8a8035ce-857c-4edc-a846-49ecfae95527",
   "metadata": {},
   "outputs": [],
   "source": [
    "ind = np.arange(0,nt,int(nt/10))\n",
    "colors = pl.cm.plasma_r(np.linspace(0,1,ind.size))\n",
    "plt.figure(figsize=(10,6))\n",
    "plt.subplot(131)\n",
    "for i in range(ind.size):\n",
    "    plt.plot(ws[ind[i],:],z[ind[i],:],color=colors[i])\n",
    "plt.xlabel(r'$w_\\mathrm{s}$',fontsize=16)\n",
    "plt.ylabel(r'$z$',fontsize=16)\n",
    "plt.subplot(132)\n",
    "for i in range(ind.size):\n",
    "    plt.plot(phi[ind[i],:],z[ind[i],:],color=colors[i])\n",
    "plt.plot(S_,z[0,:],'k--')    \n",
    "plt.xlim(-0.1,1)\n",
    "plt.xlabel(r'$\\phi$, $S$',fontsize=16)\n",
    "plt.yticks([])\n",
    "plt.subplot(133)\n",
    "for i in range(ind.size):\n",
    "    plt.plot(0*wi[ind[i],:],z[ind[i],:],color='w')\n",
    "    plt.plot(wi[ind[i],:][S_>0],z[ind[i],:][S_>0],color=colors[i])  \n",
    "plt.xlabel(r'$w_\\mathrm{i}$',fontsize=16)\n",
    "plt.gca().yaxis.set_label_position(\"right\")\n",
    "plt.gca().yaxis.tick_right()\n",
    "plt.ylabel(r'$z$',fontsize=16)\n",
    "plt.show()\n",
    "plt.close()"
   ]
  }
 ],
 "metadata": {
  "kernelspec": {
   "display_name": "Python 3 (ipykernel)",
   "language": "python",
   "name": "python3"
  },
  "language_info": {
   "codemirror_mode": {
    "name": "ipython",
    "version": 3
   },
   "file_extension": ".py",
   "mimetype": "text/x-python",
   "name": "python",
   "nbconvert_exporter": "python",
   "pygments_lexer": "ipython3",
   "version": "3.10.6"
  }
 },
 "nbformat": 4,
 "nbformat_minor": 5
}
